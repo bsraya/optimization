{
 "cells": [
  {
   "cell_type": "code",
   "execution_count": null,
   "metadata": {},
   "outputs": [],
   "source": [
    "import matplotlib.pyplot as plt\n",
    "import pandas as pd\n",
    "import numpy as np\n",
    "from sklearn import datasets\n",
    "import seaborn as sns\n",
    "from sklearn.metrics import mean_squared_error"
   ]
  },
  {
   "cell_type": "code",
   "execution_count": null,
   "metadata": {},
   "outputs": [],
   "source": [
    "iris = datasets.load_iris()\n",
    "features = iris.data \n",
    "target = iris.target\n",
    "\n",
    "sepal_length = np.array(features[:, 0])\n",
    "petal_width = np.array(features[:, 3])\n",
    "\n",
    "species_names = list()\n",
    "\n",
    "for i in target:\n",
    "    if i == 0:\n",
    "        species_names.append('setosa')\n",
    "    elif i == 1:\n",
    "        species_names.append('versicolor')\n",
    "    else:\n",
    "        species_names.append('virginica')"
   ]
  },
  {
   "cell_type": "code",
   "execution_count": null,
   "metadata": {},
   "outputs": [],
   "source": [
    "sgd_loss = pd.DataFrame(columns=['intercept', 'coefficient', 'loss'])\n",
    "\n",
    "def predict(intercept, coefficient, x):\n",
    "    return intercept + coefficient * x\n",
    "\n",
    "def sgd(x,y, alpha = 0.01):\n",
    "    intercept, coefficient= 0.0, 0.0\n",
    "    sum_error = 0.0\n",
    "    for i in range(len(x)):\n",
    "        prediction = predict(intercept, coefficient, x[i])\n",
    "        error = prediction - y[i]\n",
    "        sum_error = error ** 2\n",
    "        intercept = intercept - alpha * error\n",
    "        coefficient = coefficient - alpha * error * x[i]\n",
    "        sgd_loss.loc[i] = [intercept, coefficient, sum_error]\n",
    "    return intercept, coefficient\n",
    "\n",
    "sgd_intercept, sgd_coefficient = sgd(x = features[:, 0], y = features[:, 3])"
   ]
  },
  {
   "cell_type": "code",
   "execution_count": null,
   "metadata": {},
   "outputs": [],
   "source": [
    "plt.plot(np.arange(1, len(features)+1), sgd_loss['loss'], color = 'r')\n",
    "plt.title('SGD Loss Function Over Time')"
   ]
  },
  {
   "cell_type": "code",
   "execution_count": null,
   "metadata": {},
   "outputs": [],
   "source": [
    "sns.scatterplot(\n",
    "    x = sepal_length, \n",
    "    y = petal_width, \n",
    "    hue = species_names\n",
    ")\n",
    "\n",
    "plt.plot(\n",
    "    sepal_length, \n",
    "    sgd_intercept + sgd_coefficient * sepal_length, \n",
    "    color = 'r'\n",
    ")"
   ]
  },
  {
   "cell_type": "code",
   "execution_count": null,
   "metadata": {},
   "outputs": [],
   "source": [
    "sgd_predictions = [sgd_intercept + sgd_coefficient * x for x in sepal_length]\n",
    "\n",
    "sgd_mse = mean_squared_error(\n",
    "    sgd_predictions,\n",
    "    petal_width\n",
    ")\n",
    "\n",
    "print(f\"SGD's MSE is {sgd_mse}\")"
   ]
  }
 ],
 "metadata": {
  "language_info": {
   "name": "python"
  },
  "orig_nbformat": 4
 },
 "nbformat": 4,
 "nbformat_minor": 2
}
