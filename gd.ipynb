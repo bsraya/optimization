{
 "cells": [
  {
   "cell_type": "code",
   "execution_count": 83,
   "metadata": {},
   "outputs": [],
   "source": [
    "from sklearn import datasets\n",
    "import pandas as pd\n",
    "import numpy as np\n",
    "import seaborn as sns\n",
    "import random as random"
   ]
  },
  {
   "cell_type": "code",
   "execution_count": 29,
   "metadata": {},
   "outputs": [],
   "source": [
    "iris = datasets.load_iris()\n",
    "features = iris.data \n",
    "target = iris.target\n",
    "\n",
    "species_names = list()\n",
    "\n",
    "for i in target:\n",
    "    if i == 0:\n",
    "        species_names.append('setosa')\n",
    "    elif i == 1:\n",
    "        species_names.append('versicolor')\n",
    "    else:\n",
    "        species_names.append('virginica')"
   ]
  },
  {
   "cell_type": "code",
   "execution_count": 31,
   "metadata": {},
   "outputs": [
    {
     "data": {
      "text/plain": [
       "<AxesSubplot:>"
      ]
     },
     "execution_count": 31,
     "metadata": {},
     "output_type": "execute_result"
    },
    {
     "data": {
      "image/png": "[encoded data removed]",
      "text/plain": [
       "<Figure size 432x288 with 1 Axes>"
      ]
     },
     "metadata": {
      "needs_background": "light"
     },
     "output_type": "display_data"
    }
   ],
   "source": [
    "sns.scatterplot(x = features[:, 0], y = features[:, 3], hue = species_names)"
   ]
  },
  {
   "cell_type": "code",
   "execution_count": 118,
   "metadata": {},
   "outputs": [],
   "source": [
    "def predict(intercept, coefficient, x):\n",
    "    return intercept + coefficient * x\n",
    "\n",
    "def predict_list(intercept, coefficient, dataset):\n",
    "    return np.array([intercept + coefficient * x for x in dataset])"
   ]
  },
  {
   "cell_type": "markdown",
   "metadata": {},
   "source": [
    "# 1. Gradient Descent"
   ]
  },
  {
   "cell_type": "code",
   "execution_count": 131,
   "metadata": {},
   "outputs": [],
   "source": [
    "gd_loss = pd.DataFrame(columns=['epoch', 'b0', 'b1', 'cost'])\n",
    "\n",
    "def gd(x, y, epochs = 10, alpha = 0.01):\n",
    "    length = len(x)\n",
    "    intercept, coefficient, prediction= 0.0, 0.0, 0.0\n",
    "    for epoch in range(0, epochs):\n",
    "        prediction = predict_list(intercept, coefficient, x)\n",
    "        b0_error = (1/length) * np.sum(prediction - y)\n",
    "        b1_error = (1/length) * np.sum((prediction - y) * x)\n",
    "        intercept = intercept - alpha * b0_error\n",
    "        coefficient = coefficient - alpha * b1_error \n",
    "        gd_loss.loc[i] = [epoch, intercept, coefficient, 0]\n",
    "    return intercept, coefficient\n",
    "\n",
    "intercept, coefficient = gd(np.array(features[:, 0]), np.array(features[:, 3]), epochs = 10)"
   ]
  },
  {
   "cell_type": "code",
   "execution_count": 133,
   "metadata": {},
   "outputs": [
    {
     "name": "stdout",
     "output_type": "stream",
     "text": [
      "0.02864587245970464 0.2082943655557912\n"
     ]
    }
   ],
   "source": [
    "print(intercept, coefficient)"
   ]
  },
  {
   "cell_type": "code",
   "execution_count": 132,
   "metadata": {},
   "outputs": [
    {
     "data": {
      "text/html": [
       "<div>\n",
       "<style scoped>\n",
       "    .dataframe tbody tr th:only-of-type {\n",
       "        vertical-align: middle;\n",
       "    }\n",
       "\n",
       "    .dataframe tbody tr th {\n",
       "        vertical-align: top;\n",
       "    }\n",
       "\n",
       "    .dataframe thead th {\n",
       "        text-align: right;\n",
       "    }\n",
       "</style>\n",
       "<table border=\"1\" class=\"dataframe\">\n",
       "  <thead>\n",
       "    <tr style=\"text-align: right;\">\n",
       "      <th></th>\n",
       "      <th>epoch</th>\n",
       "      <th>b0</th>\n",
       "      <th>b1</th>\n",
       "      <th>cost</th>\n",
       "    </tr>\n",
       "  </thead>\n",
       "  <tbody>\n",
       "    <tr>\n",
       "      <th>5.9</th>\n",
       "      <td>9.0</td>\n",
       "      <td>0.028646</td>\n",
       "      <td>0.208294</td>\n",
       "      <td>0.0</td>\n",
       "    </tr>\n",
       "  </tbody>\n",
       "</table>\n",
       "</div>"
      ],
      "text/plain": [
       "     epoch        b0        b1  cost\n",
       "5.9    9.0  0.028646  0.208294   0.0"
      ]
     },
     "execution_count": 132,
     "metadata": {},
     "output_type": "execute_result"
    }
   ],
   "source": [
    "gd_loss.tail(20)"
   ]
  },
  {
   "cell_type": "markdown",
   "metadata": {},
   "source": [
    "# 2. Mini Batch Gradient Descent"
   ]
  },
  {
   "cell_type": "code",
   "execution_count": null,
   "metadata": {},
   "outputs": [],
   "source": [
    "mbgd_loss = pd.DataFrame(columns=['b0', 'b1', 'loss'])\n",
    "\n",
    "def mbgd(x, y, alpha = 0.01):\n",
    "    pass"
   ]
  },
  {
   "cell_type": "markdown",
   "metadata": {},
   "source": [
    "# 3. Stochastic Gradient Descent"
   ]
  },
  {
   "cell_type": "code",
   "execution_count": 96,
   "metadata": {},
   "outputs": [],
   "source": [
    "sgd_loss = pd.DataFrame(columns=['b0', 'b1', 'loss'])\n",
    "\n",
    "def sgd(x,y, alpha = 0.01):\n",
    "    intercepts, coefficients = list(), list()\n",
    "    intercept, coefficient= 0.0, 0.0\n",
    "    prediction = 0.0\n",
    "    for i in range(0, 201):\n",
    "        rand_index = random.randint(0, len(x)-1)\n",
    "        prediction = predict(intercept, coefficient, x[rand_index])\n",
    "        error = prediction - y[rand_index]\n",
    "        intercept = intercept - alpha * error\n",
    "        coefficient = coefficient - alpha * error * x[rand_index]\n",
    "        sgd_loss.loc[i] = [intercept, coefficient, 0]\n",
    "        intercepts.append(intercept)\n",
    "        coefficients.append(coefficient)\n",
    "    return intercepts, coefficients"
   ]
  },
  {
   "cell_type": "code",
   "execution_count": 97,
   "metadata": {},
   "outputs": [],
   "source": [
    "intercepts, coefficients = sgd(x = features[:, 0], y = features[:, 3])"
   ]
  },
  {
   "cell_type": "code",
   "execution_count": 75,
   "metadata": {},
   "outputs": [],
   "source": [
    "predictions = list()\n",
    "for i in features[:,0]:\n",
    "    predictions.append(predict(intercepts[-1], coefficients[-1], i))\n"
   ]
  },
  {
   "cell_type": "code",
   "execution_count": 99,
   "metadata": {},
   "outputs": [
    {
     "data": {
      "text/plain": [
       "[<matplotlib.lines.Line2D at 0x7fcae8a7c3d0>]"
      ]
     },
     "execution_count": 99,
     "metadata": {},
     "output_type": "execute_result"
    },
    {
     "data": {
      "image/png": "[encoded data removed]",
      "text/plain": [
       "<Figure size 432x288 with 1 Axes>"
      ]
     },
     "metadata": {
      "needs_background": "light"
     },
     "output_type": "display_data"
    }
   ],
   "source": [
    "import matplotlib.pyplot as plt\n",
    "sns.scatterplot(x = features[:, 0], y = features[:, 3], hue = species_names)\n",
    "plt.plot(features[:, 0], -0.093069 + (0.221623 * features[:, 0]))"
   ]
  },
  {
   "cell_type": "code",
   "execution_count": 71,
   "metadata": {},
   "outputs": [
    {
     "name": "stdout",
     "output_type": "stream",
     "text": [
      "[2.189915659968495, 2.2536695785309386, 1.9030230264374994, 2.2217926192497166, 2.189915659968495, 2.189915659968495, 2.062407822843608, 2.1261617414060514, 2.030530863562386, 1.9348999857187212]\n"
     ]
    }
   ],
   "source": [
    "print(predictions[-10:])"
   ]
  },
  {
   "cell_type": "code",
   "execution_count": 72,
   "metadata": {},
   "outputs": [
    {
     "name": "stdout",
     "output_type": "stream",
     "text": [
      "[2.4 2.3 1.9 2.3 2.5 2.3 1.9 2.  2.3 1.8]\n"
     ]
    }
   ],
   "source": [
    "print(features[-10:, 3])"
   ]
  },
  {
   "cell_type": "code",
   "execution_count": null,
   "metadata": {},
   "outputs": [],
   "source": []
  }
 ],
 "metadata": {
  "interpreter": {
   "hash": "59efd40409f15a1619fec8f79c707910e16a737287d2c0d85a4ba57e5609addd"
  },
  "kernelspec": {
   "display_name": "Python 3.9.7 64-bit ('pytorch': conda)",
   "language": "python",
   "name": "python3"
  },
  "language_info": {
   "codemirror_mode": {
    "name": "ipython",
    "version": 3
   },
   "file_extension": ".py",
   "mimetype": "text/x-python",
   "name": "python",
   "nbconvert_exporter": "python",
   "pygments_lexer": "ipython3",
   "version": "3.9.7"
  },
  "orig_nbformat": 4
 },
 "nbformat": 4,
 "nbformat_minor": 2
}
